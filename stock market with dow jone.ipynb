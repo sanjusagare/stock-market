{
 "cells": [
  {
   "cell_type": "code",
   "execution_count": 2,
   "metadata": {
    "scrolled": true
   },
   "outputs": [
    {
     "name": "stdout",
     "output_type": "stream",
     "text": [
      "                    High           Low          Open         Close     Volume  \\\n",
      "Date                                                                            \n",
      "2018-11-27  24750.730469  24416.029297  24557.019531  24748.730469  308250000   \n",
      "2018-11-28  25368.929688  24832.839844  24832.839844  25366.429688  362160000   \n",
      "2018-11-29  25479.039062  25202.789062  25343.650391  25338.839844  305110000   \n",
      "2018-11-30  25549.710938  25250.970703  25307.140625  25538.460938  482250000   \n",
      "2018-12-03  25980.210938  25670.509766  25779.570312  25826.429688  388480000   \n",
      "\n",
      "               Adj Close  \n",
      "Date                      \n",
      "2018-11-27  24748.730469  \n",
      "2018-11-28  25366.429688  \n",
      "2018-11-29  25338.839844  \n",
      "2018-11-30  25538.460938  \n",
      "2018-12-03  25826.429688  \n"
     ]
    }
   ],
   "source": [
    "import pandas_datareader.data as web\n",
    "import datetime as dt\n",
    "start=dt.datetime(2018,11,28)\n",
    "end=dt.datetime.today()\n",
    "stock='^DJI'\n",
    "df=web.DataReader(stock,\"yahoo\",start,end)\n",
    "print(df.head())\n"
   ]
  },
  {
   "cell_type": "code",
   "execution_count": 7,
   "metadata": {
    "scrolled": false
   },
   "outputs": [
    {
     "data": {
      "text/html": [
       "<div>\n",
       "<style scoped>\n",
       "    .dataframe tbody tr th:only-of-type {\n",
       "        vertical-align: middle;\n",
       "    }\n",
       "\n",
       "    .dataframe tbody tr th {\n",
       "        vertical-align: top;\n",
       "    }\n",
       "\n",
       "    .dataframe thead th {\n",
       "        text-align: right;\n",
       "    }\n",
       "</style>\n",
       "<table border=\"1\" class=\"dataframe\">\n",
       "  <thead>\n",
       "    <tr style=\"text-align: right;\">\n",
       "      <th></th>\n",
       "      <th>High</th>\n",
       "      <th>Low</th>\n",
       "      <th>Open</th>\n",
       "      <th>Close</th>\n",
       "      <th>Volume</th>\n",
       "      <th>close</th>\n",
       "    </tr>\n",
       "    <tr>\n",
       "      <th>Date</th>\n",
       "      <th></th>\n",
       "      <th></th>\n",
       "      <th></th>\n",
       "      <th></th>\n",
       "      <th></th>\n",
       "      <th></th>\n",
       "    </tr>\n",
       "  </thead>\n",
       "  <tbody>\n",
       "    <tr>\n",
       "      <td>2018-11-27</td>\n",
       "      <td>24750.730469</td>\n",
       "      <td>24416.029297</td>\n",
       "      <td>24557.019531</td>\n",
       "      <td>24748.730469</td>\n",
       "      <td>308250000</td>\n",
       "      <td>24748.730469</td>\n",
       "    </tr>\n",
       "    <tr>\n",
       "      <td>2018-11-28</td>\n",
       "      <td>25368.929688</td>\n",
       "      <td>24832.839844</td>\n",
       "      <td>24832.839844</td>\n",
       "      <td>25366.429688</td>\n",
       "      <td>362160000</td>\n",
       "      <td>25366.429688</td>\n",
       "    </tr>\n",
       "    <tr>\n",
       "      <td>2018-11-29</td>\n",
       "      <td>25479.039062</td>\n",
       "      <td>25202.789062</td>\n",
       "      <td>25343.650391</td>\n",
       "      <td>25338.839844</td>\n",
       "      <td>305110000</td>\n",
       "      <td>25338.839844</td>\n",
       "    </tr>\n",
       "    <tr>\n",
       "      <td>2018-11-30</td>\n",
       "      <td>25549.710938</td>\n",
       "      <td>25250.970703</td>\n",
       "      <td>25307.140625</td>\n",
       "      <td>25538.460938</td>\n",
       "      <td>482250000</td>\n",
       "      <td>25538.460938</td>\n",
       "    </tr>\n",
       "    <tr>\n",
       "      <td>2018-12-03</td>\n",
       "      <td>25980.210938</td>\n",
       "      <td>25670.509766</td>\n",
       "      <td>25779.570312</td>\n",
       "      <td>25826.429688</td>\n",
       "      <td>388480000</td>\n",
       "      <td>25826.429688</td>\n",
       "    </tr>\n",
       "  </tbody>\n",
       "</table>\n",
       "</div>"
      ],
      "text/plain": [
       "                    High           Low          Open         Close     Volume  \\\n",
       "Date                                                                            \n",
       "2018-11-27  24750.730469  24416.029297  24557.019531  24748.730469  308250000   \n",
       "2018-11-28  25368.929688  24832.839844  24832.839844  25366.429688  362160000   \n",
       "2018-11-29  25479.039062  25202.789062  25343.650391  25338.839844  305110000   \n",
       "2018-11-30  25549.710938  25250.970703  25307.140625  25538.460938  482250000   \n",
       "2018-12-03  25980.210938  25670.509766  25779.570312  25826.429688  388480000   \n",
       "\n",
       "                   close  \n",
       "Date                      \n",
       "2018-11-27  24748.730469  \n",
       "2018-11-28  25366.429688  \n",
       "2018-11-29  25338.839844  \n",
       "2018-11-30  25538.460938  \n",
       "2018-12-03  25826.429688  "
      ]
     },
     "execution_count": 7,
     "metadata": {},
     "output_type": "execute_result"
    }
   ],
   "source": [
    "df=df.rename(columns={'Adj Close':'close'})\n",
    "df.head()"
   ]
  },
  {
   "cell_type": "code",
   "execution_count": 9,
   "metadata": {},
   "outputs": [
    {
     "data": {
      "text/plain": [
       "Index(['High', 'Low', 'Open', 'Close', 'Volume', 'close'], dtype='object')"
      ]
     },
     "execution_count": 9,
     "metadata": {},
     "output_type": "execute_result"
    }
   ],
   "source": [
    "df.columns"
   ]
  },
  {
   "cell_type": "code",
   "execution_count": 12,
   "metadata": {
    "scrolled": true
   },
   "outputs": [
    {
     "data": {
      "text/html": [
       "<div>\n",
       "<style scoped>\n",
       "    .dataframe tbody tr th:only-of-type {\n",
       "        vertical-align: middle;\n",
       "    }\n",
       "\n",
       "    .dataframe tbody tr th {\n",
       "        vertical-align: top;\n",
       "    }\n",
       "\n",
       "    .dataframe thead th {\n",
       "        text-align: right;\n",
       "    }\n",
       "</style>\n",
       "<table border=\"1\" class=\"dataframe\">\n",
       "  <thead>\n",
       "    <tr style=\"text-align: right;\">\n",
       "      <th></th>\n",
       "      <th>Open</th>\n",
       "      <th>close</th>\n",
       "      <th>Low</th>\n",
       "      <th>High</th>\n",
       "      <th>Volume</th>\n",
       "    </tr>\n",
       "    <tr>\n",
       "      <th>Date</th>\n",
       "      <th></th>\n",
       "      <th></th>\n",
       "      <th></th>\n",
       "      <th></th>\n",
       "      <th></th>\n",
       "    </tr>\n",
       "  </thead>\n",
       "  <tbody>\n",
       "    <tr>\n",
       "      <td>2019-11-21</td>\n",
       "      <td>27820.279297</td>\n",
       "      <td>27766.289062</td>\n",
       "      <td>27708.339844</td>\n",
       "      <td>27828.330078</td>\n",
       "      <td>232020000</td>\n",
       "    </tr>\n",
       "    <tr>\n",
       "      <td>2019-11-22</td>\n",
       "      <td>27831.230469</td>\n",
       "      <td>27875.619141</td>\n",
       "      <td>27773.980469</td>\n",
       "      <td>27898.460938</td>\n",
       "      <td>214780000</td>\n",
       "    </tr>\n",
       "    <tr>\n",
       "      <td>2019-11-25</td>\n",
       "      <td>27917.769531</td>\n",
       "      <td>28066.470703</td>\n",
       "      <td>27917.769531</td>\n",
       "      <td>28068.689453</td>\n",
       "      <td>248420000</td>\n",
       "    </tr>\n",
       "    <tr>\n",
       "      <td>2019-11-26</td>\n",
       "      <td>28080.750000</td>\n",
       "      <td>28121.679688</td>\n",
       "      <td>28042.210938</td>\n",
       "      <td>28146.019531</td>\n",
       "      <td>324050000</td>\n",
       "    </tr>\n",
       "    <tr>\n",
       "      <td>2019-11-27</td>\n",
       "      <td>28156.470703</td>\n",
       "      <td>28164.000000</td>\n",
       "      <td>28075.230469</td>\n",
       "      <td>28174.970703</td>\n",
       "      <td>198210000</td>\n",
       "    </tr>\n",
       "  </tbody>\n",
       "</table>\n",
       "</div>"
      ],
      "text/plain": [
       "                    Open         close           Low          High     Volume\n",
       "Date                                                                         \n",
       "2019-11-21  27820.279297  27766.289062  27708.339844  27828.330078  232020000\n",
       "2019-11-22  27831.230469  27875.619141  27773.980469  27898.460938  214780000\n",
       "2019-11-25  27917.769531  28066.470703  27917.769531  28068.689453  248420000\n",
       "2019-11-26  28080.750000  28121.679688  28042.210938  28146.019531  324050000\n",
       "2019-11-27  28156.470703  28164.000000  28075.230469  28174.970703  198210000"
      ]
     },
     "execution_count": 12,
     "metadata": {},
     "output_type": "execute_result"
    }
   ],
   "source": [
    "df=df.loc[:,['Open','close','Low','High','Volume']]\n",
    "df.tail()"
   ]
  },
  {
   "cell_type": "code",
   "execution_count": 19,
   "metadata": {},
   "outputs": [],
   "source": [
    "import pandas as pd\n",
    "df.to_excel(r'C:\\Users\\Dell\\Desktop\\sanyoja\\python\\dat_source.xlsx')"
   ]
  },
  {
   "cell_type": "code",
   "execution_count": 28,
   "metadata": {},
   "outputs": [],
   "source": [
    "df1=pd.read_excel(r'C:\\Users\\Dell\\Desktop\\sanyoja\\python\\dat_source.xlsx',index_col=\"Date\")"
   ]
  },
  {
   "cell_type": "code",
   "execution_count": 29,
   "metadata": {},
   "outputs": [
    {
     "data": {
      "text/html": [
       "<div>\n",
       "<style scoped>\n",
       "    .dataframe tbody tr th:only-of-type {\n",
       "        vertical-align: middle;\n",
       "    }\n",
       "\n",
       "    .dataframe tbody tr th {\n",
       "        vertical-align: top;\n",
       "    }\n",
       "\n",
       "    .dataframe thead th {\n",
       "        text-align: right;\n",
       "    }\n",
       "</style>\n",
       "<table border=\"1\" class=\"dataframe\">\n",
       "  <thead>\n",
       "    <tr style=\"text-align: right;\">\n",
       "      <th></th>\n",
       "      <th>Open</th>\n",
       "      <th>close</th>\n",
       "      <th>Low</th>\n",
       "      <th>High</th>\n",
       "      <th>Volume</th>\n",
       "    </tr>\n",
       "    <tr>\n",
       "      <th>Date</th>\n",
       "      <th></th>\n",
       "      <th></th>\n",
       "      <th></th>\n",
       "      <th></th>\n",
       "      <th></th>\n",
       "    </tr>\n",
       "  </thead>\n",
       "  <tbody>\n",
       "    <tr>\n",
       "      <td>2018-11-27</td>\n",
       "      <td>24557.019531</td>\n",
       "      <td>24748.730469</td>\n",
       "      <td>24416.029297</td>\n",
       "      <td>24750.730469</td>\n",
       "      <td>308250000</td>\n",
       "    </tr>\n",
       "    <tr>\n",
       "      <td>2018-11-28</td>\n",
       "      <td>24832.839844</td>\n",
       "      <td>25366.429688</td>\n",
       "      <td>24832.839844</td>\n",
       "      <td>25368.929688</td>\n",
       "      <td>362160000</td>\n",
       "    </tr>\n",
       "    <tr>\n",
       "      <td>2018-11-29</td>\n",
       "      <td>25343.650391</td>\n",
       "      <td>25338.839844</td>\n",
       "      <td>25202.789062</td>\n",
       "      <td>25479.039062</td>\n",
       "      <td>305110000</td>\n",
       "    </tr>\n",
       "    <tr>\n",
       "      <td>2018-11-30</td>\n",
       "      <td>25307.140625</td>\n",
       "      <td>25538.460938</td>\n",
       "      <td>25250.970703</td>\n",
       "      <td>25549.710938</td>\n",
       "      <td>482250000</td>\n",
       "    </tr>\n",
       "    <tr>\n",
       "      <td>2018-12-03</td>\n",
       "      <td>25779.570312</td>\n",
       "      <td>25826.429688</td>\n",
       "      <td>25670.509766</td>\n",
       "      <td>25980.210938</td>\n",
       "      <td>388480000</td>\n",
       "    </tr>\n",
       "  </tbody>\n",
       "</table>\n",
       "</div>"
      ],
      "text/plain": [
       "                    Open         close           Low          High     Volume\n",
       "Date                                                                         \n",
       "2018-11-27  24557.019531  24748.730469  24416.029297  24750.730469  308250000\n",
       "2018-11-28  24832.839844  25366.429688  24832.839844  25368.929688  362160000\n",
       "2018-11-29  25343.650391  25338.839844  25202.789062  25479.039062  305110000\n",
       "2018-11-30  25307.140625  25538.460938  25250.970703  25549.710938  482250000\n",
       "2018-12-03  25779.570312  25826.429688  25670.509766  25980.210938  388480000"
      ]
     },
     "execution_count": 29,
     "metadata": {},
     "output_type": "execute_result"
    }
   ],
   "source": [
    "df1.head()"
   ]
  },
  {
   "cell_type": "code",
   "execution_count": 35,
   "metadata": {},
   "outputs": [
    {
     "name": "stdout",
     "output_type": "stream",
     "text": [
      "482250000.0\n"
     ]
    }
   ],
   "source": [
    "print(df.loc['2018-11-30','Volume'])"
   ]
  },
  {
   "cell_type": "code",
   "execution_count": 37,
   "metadata": {},
   "outputs": [],
   "source": [
    "df['day_change']=(df['close'].pct_change())*100"
   ]
  },
  {
   "cell_type": "code",
   "execution_count": 38,
   "metadata": {},
   "outputs": [
    {
     "data": {
      "text/html": [
       "<div>\n",
       "<style scoped>\n",
       "    .dataframe tbody tr th:only-of-type {\n",
       "        vertical-align: middle;\n",
       "    }\n",
       "\n",
       "    .dataframe tbody tr th {\n",
       "        vertical-align: top;\n",
       "    }\n",
       "\n",
       "    .dataframe thead th {\n",
       "        text-align: right;\n",
       "    }\n",
       "</style>\n",
       "<table border=\"1\" class=\"dataframe\">\n",
       "  <thead>\n",
       "    <tr style=\"text-align: right;\">\n",
       "      <th></th>\n",
       "      <th>Open</th>\n",
       "      <th>close</th>\n",
       "      <th>Low</th>\n",
       "      <th>High</th>\n",
       "      <th>Volume</th>\n",
       "      <th>day_change</th>\n",
       "    </tr>\n",
       "    <tr>\n",
       "      <th>Date</th>\n",
       "      <th></th>\n",
       "      <th></th>\n",
       "      <th></th>\n",
       "      <th></th>\n",
       "      <th></th>\n",
       "      <th></th>\n",
       "    </tr>\n",
       "  </thead>\n",
       "  <tbody>\n",
       "    <tr>\n",
       "      <td>2019-11-21</td>\n",
       "      <td>27820.279297</td>\n",
       "      <td>27766.289062</td>\n",
       "      <td>27708.339844</td>\n",
       "      <td>27828.330078</td>\n",
       "      <td>232020000</td>\n",
       "      <td>-0.196976</td>\n",
       "    </tr>\n",
       "    <tr>\n",
       "      <td>2019-11-22</td>\n",
       "      <td>27831.230469</td>\n",
       "      <td>27875.619141</td>\n",
       "      <td>27773.980469</td>\n",
       "      <td>27898.460938</td>\n",
       "      <td>214780000</td>\n",
       "      <td>0.393751</td>\n",
       "    </tr>\n",
       "    <tr>\n",
       "      <td>2019-11-25</td>\n",
       "      <td>27917.769531</td>\n",
       "      <td>28066.470703</td>\n",
       "      <td>27917.769531</td>\n",
       "      <td>28068.689453</td>\n",
       "      <td>248420000</td>\n",
       "      <td>0.684654</td>\n",
       "    </tr>\n",
       "    <tr>\n",
       "      <td>2019-11-26</td>\n",
       "      <td>28080.750000</td>\n",
       "      <td>28121.679688</td>\n",
       "      <td>28042.210938</td>\n",
       "      <td>28146.019531</td>\n",
       "      <td>324050000</td>\n",
       "      <td>0.196708</td>\n",
       "    </tr>\n",
       "    <tr>\n",
       "      <td>2019-11-27</td>\n",
       "      <td>28156.470703</td>\n",
       "      <td>28164.000000</td>\n",
       "      <td>28075.230469</td>\n",
       "      <td>28174.970703</td>\n",
       "      <td>198210000</td>\n",
       "      <td>0.150490</td>\n",
       "    </tr>\n",
       "  </tbody>\n",
       "</table>\n",
       "</div>"
      ],
      "text/plain": [
       "                    Open         close           Low          High     Volume  \\\n",
       "Date                                                                            \n",
       "2019-11-21  27820.279297  27766.289062  27708.339844  27828.330078  232020000   \n",
       "2019-11-22  27831.230469  27875.619141  27773.980469  27898.460938  214780000   \n",
       "2019-11-25  27917.769531  28066.470703  27917.769531  28068.689453  248420000   \n",
       "2019-11-26  28080.750000  28121.679688  28042.210938  28146.019531  324050000   \n",
       "2019-11-27  28156.470703  28164.000000  28075.230469  28174.970703  198210000   \n",
       "\n",
       "            day_change  \n",
       "Date                    \n",
       "2019-11-21   -0.196976  \n",
       "2019-11-22    0.393751  \n",
       "2019-11-25    0.684654  \n",
       "2019-11-26    0.196708  \n",
       "2019-11-27    0.150490  "
      ]
     },
     "execution_count": 38,
     "metadata": {},
     "output_type": "execute_result"
    }
   ],
   "source": [
    "df.tail()"
   ]
  },
  {
   "cell_type": "code",
   "execution_count": 1,
   "metadata": {},
   "outputs": [
    {
     "ename": "NameError",
     "evalue": "name 'df' is not defined",
     "output_type": "error",
     "traceback": [
      "\u001b[1;31m---------------------------------------------------------------------------\u001b[0m",
      "\u001b[1;31mNameError\u001b[0m                                 Traceback (most recent call last)",
      "\u001b[1;32m<ipython-input-1-10db7437046d>\u001b[0m in \u001b[0;36m<module>\u001b[1;34m\u001b[0m\n\u001b[1;32m----> 1\u001b[1;33m \u001b[0mdf2\u001b[0m\u001b[1;33m=\u001b[0m\u001b[0mdf\u001b[0m\u001b[1;33m.\u001b[0m\u001b[0mdrop\u001b[0m\u001b[1;33m[\u001b[0m\u001b[1;34m'Date'\u001b[0m\u001b[1;33m]\u001b[0m\u001b[1;33m\u001b[0m\u001b[1;33m\u001b[0m\u001b[0m\n\u001b[0m",
      "\u001b[1;31mNameError\u001b[0m: name 'df' is not defined"
     ]
    }
   ],
   "source": [
    "df2=df.drop['Date']"
   ]
  }
 ],
 "metadata": {
  "kernelspec": {
   "display_name": "Python 3",
   "language": "python",
   "name": "python3"
  },
  "language_info": {
   "codemirror_mode": {
    "name": "ipython",
    "version": 3
   },
   "file_extension": ".py",
   "mimetype": "text/x-python",
   "name": "python",
   "nbconvert_exporter": "python",
   "pygments_lexer": "ipython3",
   "version": "3.7.4"
  }
 },
 "nbformat": 4,
 "nbformat_minor": 2
}
